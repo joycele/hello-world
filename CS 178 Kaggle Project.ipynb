{
 "cells": [
  {
   "cell_type": "code",
   "execution_count": 55,
   "metadata": {},
   "outputs": [],
   "source": [
    "def splitData(X, Y=None, train_fraction=0.80):\n",
    "    \"\"\"\n",
    "    Split data into training and test data.\n",
    "\n",
    "    Parameters\n",
    "    ----------\n",
    "    X : MxN numpy array of data to split\n",
    "    Y : Mx1 numpy array of associated target values\n",
    "    train_fraction : float, fraction of data used for training (default 80%)\n",
    "\n",
    "    Returns\n",
    "    -------\n",
    "    to_return : (Xtr,Xte,Ytr,Yte) or (Xtr,Xte)\n",
    "        A tuple containing the following arrays (in order): training\n",
    "        data from X, testing data from X, training labels from Y\n",
    "        (if Y contains data), and testing labels from Y (if Y \n",
    "        contains data).\n",
    "    \"\"\"\n",
    "    nx,dx = twod(X).shape\n",
    "    ne = int(round(train_fraction * nx))\n",
    "\n",
    "    Xtr,Xte = X[:ne,:], X[ne:,:]\n",
    "    to_return = (Xtr,Xte)\n",
    "\n",
    "    if Y is not None:\n",
    "        Y = arr(Y).flatten()\n",
    "        ny = len(Y)\n",
    "        if ny > 0:\n",
    "            assert ny == nx, 'splitData: X and Y must have the same length'\n",
    "            Ytr,Yte = Y[:ne], Y[ne:]\n",
    "            to_return += (Ytr,Yte)\n",
    "\n",
    "    return to_return"
   ]
  },
  {
   "cell_type": "code",
   "execution_count": 1,
   "metadata": {},
   "outputs": [
    {
     "name": "stderr",
     "output_type": "stream",
     "text": [
      "C:\\Users\\Joyce\\Anaconda3\\lib\\site-packages\\sklearn\\ensemble\\weight_boosting.py:29: DeprecationWarning: numpy.core.umath_tests is an internal NumPy module and should not be imported. It will be removed in a future NumPy release.\n",
      "  from numpy.core.umath_tests import inner1d\n"
     ]
    },
    {
     "name": "stdout",
     "output_type": "stream",
     "text": [
      "(100000, 14)\n",
      "(100000, 14)\n"
     ]
    }
   ],
   "source": [
    "import numpy as np\n",
    "import sklearn as sk\n",
    "import os\n",
    "from numpy import asarray as arr\n",
    "from numpy import atleast_2d as twod\n",
    "from matplotlib import pyplot as plt\n",
    "from sklearn.ensemble import AdaBoostClassifier\n",
    "from sklearn.metrics import roc_auc_score\n",
    "from sklearn.metrics import roc_curve\n",
    "from sklearn.ensemble import ExtraTreesClassifier\n",
    "from sklearn.ensemble import RandomForestRegressor\n",
    "from sklearn.ensemble import RandomForestClassifier\n",
    "from sklearn.feature_selection import SelectFromModel\n",
    "from sklearn.feature_selection import VarianceThreshold\n",
    "from sklearn.feature_selection import SelectKBest\n",
    "from sklearn.feature_selection import chi2\n",
    "os.chdir(r'C:\\Users\\Joyce\\Documents\\178\\project\\formated_data')\n",
    "\n",
    "X = np.loadtxt('X_train.txt')\n",
    "Y = np.loadtxt('Y_train.txt')\n",
    "X_final = np.loadtxt('X_test.txt')\n",
    "print(X.shape)\n",
    "\n",
    "sel = VarianceThreshold(0.5)\n",
    "X_new = sel.fit_transform(X)\n",
    "\n",
    "print(X_new.shape)"
   ]
  },
  {
   "cell_type": "code",
   "execution_count": 96,
   "metadata": {},
   "outputs": [],
   "source": [
    "Xtr, Xte, Ytr, Yte = splitData(X,Y,0.75)"
   ]
  },
  {
   "cell_type": "code",
   "execution_count": 28,
   "metadata": {},
   "outputs": [
    {
     "data": {
      "text/plain": [
       "0.6238071416679762"
      ]
     },
     "execution_count": 28,
     "metadata": {},
     "output_type": "execute_result"
    }
   ],
   "source": [
    "classifier = AdaBoostClassifier(n_estimators=600, learning_rate=1.5)\n",
    "classifier.fit(Xfold_2, Yfold_2)\n",
    "yhat = classifier.predict(X_valid)\n",
    "roc_auc_score(Y_valid, yhat)"
   ]
  },
  {
   "cell_type": "code",
   "execution_count": 11,
   "metadata": {},
   "outputs": [
    {
     "name": "stdout",
     "output_type": "stream",
     "text": [
      "0.6927733333333334\n"
     ]
    }
   ],
   "source": [
    "classifier.fit(Xtr, Ytr)\n",
    "yhat = classifier.predict(Xte)\n",
    "print(classifier.score(Xte, Yte))"
   ]
  },
  {
   "cell_type": "code",
   "execution_count": 5,
   "metadata": {},
   "outputs": [],
   "source": [
    "np.savetxt('AdaBoost1.txt',np.vstack( (np.arange(len(yhat)) , yhat) ).T,\n",
    "           '%d, %.2f',header='ID,Prob1',comments='',delimiter=',')\n"
   ]
  },
  {
   "cell_type": "code",
   "execution_count": 14,
   "metadata": {},
   "outputs": [],
   "source": [
    "# attempt 2\n",
    "classifier = AdaBoostClassifier(n_estimators=600, learning_rate=1.5)"
   ]
  },
  {
   "cell_type": "code",
   "execution_count": 15,
   "metadata": {},
   "outputs": [
    {
     "name": "stdout",
     "output_type": "stream",
     "text": [
      "0.69124\n"
     ]
    }
   ],
   "source": [
    "classifier.fit(Xtr, Ytr)\n",
    "yhat = classifier.predict(Xte)\n",
    "print(classifier.score(Xte, Yte))"
   ]
  },
  {
   "cell_type": "markdown",
   "metadata": {},
   "source": [
    "# KNN Classifier"
   ]
  },
  {
   "cell_type": "code",
   "execution_count": 35,
   "metadata": {},
   "outputs": [],
   "source": [
    "from sklearn.neighbors import KNeighborsClassifier\n",
    "\n",
    "nums = [2,5,10,15,20,25,50,100,125,135]\n",
    "train_error = []\n",
    "valid_error = []\n",
    "auc = []\n",
    "fpr = []\n",
    "tpr = []\n",
    "thresholds = []\n",
    "\n",
    "for k in nums:\n",
    "    knn = KNeighborsClassifier(n_neighbors=k)\n",
    "    knn = knn.fit(Xtr, Ytr)\n",
    "    pred_train = knn.predict(Xtr)\n",
    "    pred_test = knn.predict(Xte)\n",
    "    \n",
    "     ## Get ROC Curve Characteristics\n",
    "    fpr_temp, tpr_temp, thresholds_temp = roc_curve(Yte ,pred_test)\n",
    "    fpr.append(fpr_temp)\n",
    "    tpr.append(tpr_temp)\n",
    "    thresholds.append(thresholds_temp)\n",
    "    \n",
    "    ## Get AUC\n",
    "    roc_auc = sk.metrics.roc_auc_score(Yte, pred_test)\n",
    "    auc.append(roc_auc)\n",
    "    \n",
    "    ## Predict Test and Train Error\n",
    "    train_error.append(np.sum(pred_train != Ytr)/float(len(Ytr)))\n",
    "    valid_error.append(np.sum(pred_test != Yte)/float(len(Yte)))\n",
    "    "
   ]
  },
  {
   "cell_type": "code",
   "execution_count": 4,
   "metadata": {},
   "outputs": [
    {
     "data": {
      "image/png": "[encoded data removed]",
      "text/plain": [
       "<Figure size 432x288 with 1 Axes>"
      ]
     },
     "metadata": {
      "needs_background": "light"
     },
     "output_type": "display_data"
    }
   ],
   "source": [
    "plt.plot(nums,valid_error,  color = 'orange', label = 'Valid Error')\n",
    "plt.legend()\n",
    "plt.xticks(nums)\n",
    "plt.show()"
   ]
  },
  {
   "cell_type": "code",
   "execution_count": 5,
   "metadata": {},
   "outputs": [
    {
     "data": {
      "text/plain": [
       "([<matplotlib.axis.XTick at 0x1e684f84390>,\n",
       "  <matplotlib.axis.XTick at 0x1e683badc18>,\n",
       "  <matplotlib.axis.XTick at 0x1e683bad978>,\n",
       "  <matplotlib.axis.XTick at 0x1e684fbf588>,\n",
       "  <matplotlib.axis.XTick at 0x1e684fbf898>,\n",
       "  <matplotlib.axis.XTick at 0x1e684fbfd68>,\n",
       "  <matplotlib.axis.XTick at 0x1e684f86278>,\n",
       "  <matplotlib.axis.XTick at 0x1e684f86748>,\n",
       "  <matplotlib.axis.XTick at 0x1e684f86c18>,\n",
       "  <matplotlib.axis.XTick at 0x1e684f94160>],\n",
       " <a list of 10 Text xticklabel objects>)"
      ]
     },
     "execution_count": 5,
     "metadata": {},
     "output_type": "execute_result"
    },
    {
     "data": {
      "image/png": "[encoded data removed]",
      "text/plain": [
       "<Figure size 432x288 with 1 Axes>"
      ]
     },
     "metadata": {
      "needs_background": "light"
     },
     "output_type": "display_data"
    }
   ],
   "source": [
    "plt.plot(nums, auc)\n",
    "plt.xticks(nums)"
   ]
  },
  {
   "cell_type": "markdown",
   "metadata": {},
   "source": [
    "k=20 seems to be the best n_neighbors"
   ]
  },
  {
   "cell_type": "code",
   "execution_count": 6,
   "metadata": {},
   "outputs": [
    {
     "name": "stdout",
     "output_type": "stream",
     "text": [
      "weighted:\n",
      "training error: 0.032306666666666664\n",
      "validation error: 0.30884\n",
      "unweighted:\n",
      "training error: 0.032306666666666664\n",
      "validation error: 0.30884\n"
     ]
    }
   ],
   "source": [
    "weighted = KNeighborsClassifier(n_neighbors=5, weights='distance')\n",
    "weighted = weighted.fit(Xtr, Ytr)\n",
    "wtr = weighted.predict(Xtr)\n",
    "wte = weighted.predict(Xte)\n",
    "print('weighted:')\n",
    "print('training error:', np.sum(wtr != Ytr)/float(len(Ytr)))\n",
    "print('validation error:', np.sum(wte != Yte)/float(len(Yte)))\n",
    "\n",
    "unweighted = KNeighborsClassifier(n_neighbors=5)\n",
    "unweighted = unweighted.fit(Xtr, Ytr)\n",
    "utr = weighted.predict(Xtr)\n",
    "ute = weighted.predict(Xte)\n",
    "print('unweighted:')\n",
    "print('training error:', np.sum(utr != Ytr)/float(len(Ytr)))\n",
    "print('validation error:', np.sum(ute != Yte)/float(len(Yte)))\n",
    "\n"
   ]
  },
  {
   "cell_type": "code",
   "execution_count": 8,
   "metadata": {},
   "outputs": [
    {
     "name": "stdout",
     "output_type": "stream",
     "text": [
      "0.6391954694068773 0.6391954694068773\n"
     ]
    }
   ],
   "source": [
    "wroc_auc = sk.metrics.roc_auc_score(Yte, wte)\n",
    "uroc_auc = sk.metrics.roc_auc_score(Yte, ute)\n",
    "\n",
    "print(wroc_auc, uroc_auc)"
   ]
  },
  {
   "cell_type": "code",
   "execution_count": 34,
   "metadata": {},
   "outputs": [],
   "source": [
    "# final test\n",
    "weighted = KNeighborsClassifier(n_neighbors=20, weights='distance', algorithm='auto')\n",
    "weighted = weighted.fit(X, Y)\n",
    "wte = weighted.predict(Xte)\n",
    "#print('weighted:')\n",
    "#print('training error:', np.sum(wte != Yfold_2)/float(len(Yfold_2)))\n",
    "#print('validation error:', np.sum(wte != Y_valid)/float(len(Y_valid)))\n",
    "#wroc_auc = sk.metrics.roc_auc_score(Y_valid, wte_15)\n",
    "\n",
    "#print(wroc_auc)"
   ]
  },
  {
   "cell_type": "code",
   "execution_count": 25,
   "metadata": {},
   "outputs": [],
   "source": [
    "nums = [2,5,10,15,20,25,50,100,125,135]\n",
    "train_error = []\n",
    "valid_error = []\n",
    "auc = []\n",
    "fpr = []\n",
    "tpr = []\n",
    "thresholds = []\n",
    "\n",
    "for k in nums:\n",
    "    knn = KNeighborsClassifier(n_neighbors=k)\n",
    "    knn = knn.fit(Xtr, Ytr)\n",
    "    pred_train = knn.predict(Xtr)\n",
    "    pred_test = knn.predict(Xte)\n",
    "    \n",
    "     ## Get ROC Curve Characteristics\n",
    "    fpr_temp, tpr_temp, thresholds_temp = roc_curve(Yte,pred_test)\n",
    "    fpr.append(fpr_temp)\n",
    "    tpr.append(tpr_temp)\n",
    "    thresholds.append(thresholds_temp)\n",
    "    \n",
    "    ## Get AUC\n",
    "    roc_auc = sk.metrics.roc_auc_score(Yte, pred_test)\n",
    "    auc.append(roc_auc)\n",
    "    \n",
    "    ## Predict Test and Train Error\n",
    "    train_error.append(np.sum(pred_train != Ytr)/float(len(Ytr)))\n",
    "    valid_error.append(np.sum(pred_test != Yte)/float(len(Yte)))"
   ]
  },
  {
   "cell_type": "code",
   "execution_count": 36,
   "metadata": {},
   "outputs": [
    {
     "data": {
      "image/png": "[encoded data removed]",
      "text/plain": [
       "<Figure size 432x288 with 1 Axes>"
      ]
     },
     "metadata": {
      "needs_background": "light"
     },
     "output_type": "display_data"
    }
   ],
   "source": [
    "plt.plot(nums,valid_error,  color = 'orange', label = 'Valid Error')\n",
    "plt.legend()\n",
    "plt.xticks(nums)\n",
    "plt.show()"
   ]
  },
  {
   "cell_type": "code",
   "execution_count": 158,
   "metadata": {},
   "outputs": [
    {
     "name": "stdout",
     "output_type": "stream",
     "text": [
      "training error: 0.032266666666666666\n",
      "validation error: 0.09812\n",
      "0.648034672652899 0.9554869468481377\n"
     ]
    }
   ],
   "source": [
    "weighted = KNeighborsClassifier(n_neighbors=10, weights='distance', p=1)\n",
    "weighted = weighted.fit(Xtr,Ytr)\n",
    "wtr = weighted.predict(Xtr)\n",
    "wte = weighted.predict(Xte)\n",
    "final = weighted.predict(X_final)\n",
    "\n",
    "np.savetxt('KNN_valid.txt',np.vstack( (np.arange(len(wte)) , wte) ).T,\n",
    "           '%d, %.2f',header='ID,Prob1',comments='',delimiter=',')\n",
    "\n",
    "np.savetxt('KNN_final.txt',np.vstack( (np.arange(len(final)) , final) ).T,\n",
    "           '%d, %.2f',header='ID,Prob1',comments='',delimiter=',')\n",
    "\n",
    "print('training error:', np.sum(wtr != Ytr)/float(len(Ytr)))\n",
    "print('validation error:', np.sum(wte != Yte)/float(len(Ytr)))\n",
    "wroc_auc = sk.metrics.roc_auc_score(Yte, wte)\n",
    "test_auc = sk.metrics.roc_auc_score(Ytr, wtr)\n",
    "print(wroc_auc, test_auc)"
   ]
  },
  {
   "cell_type": "code",
   "execution_count": 28,
   "metadata": {},
   "outputs": [
    {
     "data": {
      "text/plain": [
       "([<matplotlib.axis.XTick at 0x1e698f78898>,\n",
       "  <matplotlib.axis.XTick at 0x1e6878b77b8>,\n",
       "  <matplotlib.axis.XTick at 0x1e6878b7320>,\n",
       "  <matplotlib.axis.XTick at 0x1e685957ef0>,\n",
       "  <matplotlib.axis.XTick at 0x1e685a568d0>,\n",
       "  <matplotlib.axis.XTick at 0x1e685a560f0>,\n",
       "  <matplotlib.axis.XTick at 0x1e685a56940>,\n",
       "  <matplotlib.axis.XTick at 0x1e687431240>,\n",
       "  <matplotlib.axis.XTick at 0x1e687431710>,\n",
       "  <matplotlib.axis.XTick at 0x1e687544320>],\n",
       " <a list of 10 Text xticklabel objects>)"
      ]
     },
     "execution_count": 28,
     "metadata": {},
     "output_type": "execute_result"
    },
    {
     "data": {
      "image/png": "[encoded data removed]",
      "text/plain": [
       "<Figure size 432x288 with 1 Axes>"
      ]
     },
     "metadata": {
      "needs_background": "light"
     },
     "output_type": "display_data"
    }
   ],
   "source": [
    "plt.plot(nums, auc)\n",
    "plt.xticks(nums)"
   ]
  },
  {
   "cell_type": "code",
   "execution_count": 56,
   "metadata": {},
   "outputs": [],
   "source": [
    "weighted = weighted.fit(X,Y)\n",
    "yhat = weighted.predict_proba(X_final)"
   ]
  },
  {
   "cell_type": "code",
   "execution_count": 58,
   "metadata": {},
   "outputs": [],
   "source": [
    "np.savetxt('KNN1.txt',np.vstack( (np.arange(len(yhat)) , yhat[:,1]) ).T,\n",
    "           '%d, %.2f',header='ID,Prob1',comments='',delimiter=',')"
   ]
  },
  {
   "cell_type": "code",
   "execution_count": 156,
   "metadata": {},
   "outputs": [],
   "source": [
    "rfc = RandomForestRegressor(max_depth=20, max_features= 7, min_samples_leaf = 7, min_samples_split=7)\n",
    "rfc = rfc.fit(Xtr, Ytr)\n",
    "wtr = rfc.predict(Xtr)\n",
    "wte = rfc.predict(Xte)\n",
    "final = rfc.predict(X_final)"
   ]
  },
  {
   "cell_type": "code",
   "execution_count": 159,
   "metadata": {},
   "outputs": [
    {
     "name": "stdout",
     "output_type": "stream",
     "text": [
      "training error: 0.032266666666666666\n",
      "validation error: 0.09812\n",
      "0.648034672652899 0.9554869468481377\n"
     ]
    }
   ],
   "source": [
    "print('training error:', np.sum(wtr != Ytr)/float(len(Ytr)))\n",
    "print('validation error:', np.sum(wte != Yte)/float(len(Ytr)))\n",
    "wroc_auc = sk.metrics.roc_auc_score(Yte, wte)\n",
    "test_auc = sk.metrics.roc_auc_score(Ytr, wtr)\n",
    "\n",
    "np.savetxt('RandomForest_valid.txt',np.vstack( (np.arange(len(wte)) , wte) ).T,\n",
    "           '%d, %.2f',header='ID,Prob1',comments='',delimiter=',')\n",
    "\n",
    "np.savetxt('RandomForest_final.txt',np.vstack( (np.arange(len(final)) , final) ).T,\n",
    "           '%d, %.2f',header='ID,Prob1',comments='',delimiter=',')\n",
    "\n",
    "print(wroc_auc, test_auc)"
   ]
  },
  {
   "cell_type": "code",
   "execution_count": 133,
   "metadata": {},
   "outputs": [],
   "source": [
    "rfc = rfc.fit(X,Y)\n",
    "yhat = rfc.predict(X_final)"
   ]
  },
  {
   "cell_type": "code",
   "execution_count": 137,
   "metadata": {},
   "outputs": [],
   "source": [
    "np.savetxt('RandomForest.txt',np.vstack( (np.arange(len(yhat)) , yhat) ).T,\n",
    "           '%d, %.2f',header='ID,Prob1',comments='',delimiter=',')"
   ]
  },
  {
   "cell_type": "code",
   "execution_count": 168,
   "metadata": {},
   "outputs": [],
   "source": [
    "Pv0=np.genfromtxt('RandomForest_valid.txt',delimiter=',',skip_header=1)[:,1:2]\n",
    "Pv1=np.genfromtxt('KNN_valid.txt',delimiter=',',skip_header=1)[:,1:2]\n",
    "Pv2=np.genfromtxt('Adaboost_train.txt',delimiter=',',skip_header=1)[:,1:2]\n",
    "\n",
    "Pe0=np.genfromtxt('RandomForest_final.txt',delimiter=',',skip_header=1)[:,1:2]\n",
    "Pe1=np.genfromtxt('KNN_final.txt',delimiter=',',skip_header=1)[:,1:2]\n",
    "Pe2=np.genfromtxt('Adaboost_pred.txt',delimiter=',',skip_header=1)[:,1:2]"
   ]
  },
  {
   "cell_type": "code",
   "execution_count": 174,
   "metadata": {
    "scrolled": true
   },
   "outputs": [
    {
     "name": "stdout",
     "output_type": "stream",
     "text": [
      "** Stacked AUC:  0.7244268202158342\n"
     ]
    }
   ],
   "source": [
    "import mltools as ml\n",
    "\n",
    "Sv=np.hstack((Pv0,Pv1,Pv2))\n",
    "stack=ml.linearC.linearClassify(Sv,Yte,reg=1e-3)\n",
    "print(\"** Stacked AUC: \",stack.auc(Sv,Yte))\n",
    "Se=np.hstack((Pe0,Pe1,Pe2))\n",
    "PeS=stack.predictSoft(Se)\n",
    "\n"
   ]
  },
  {
   "cell_type": "code",
   "execution_count": 181,
   "metadata": {},
   "outputs": [],
   "source": [
    "def toKaggle(filename,prSoft):\n",
    "    fh=open(filename,'w')\n",
    "    fh.write('ID,Prob1\\n')\n",
    "    for i,yi in enumerate(prSoft[:,1].ravel()):\n",
    "        fh.write('{}, {}\\n'.format(i,yi))\n",
    "    fh.close()"
   ]
  },
  {
   "cell_type": "code",
   "execution_count": 182,
   "metadata": {},
   "outputs": [],
   "source": [
    "toKaggle('stack.txt',PeS)"
   ]
  },
  {
   "cell_type": "code",
   "execution_count": 176,
   "metadata": {},
   "outputs": [
    {
     "data": {
      "text/plain": [
       "array([[0.78560465, 0.21439535],\n",
       "       [0.78560465, 0.21439535],\n",
       "       [0.78524261, 0.21475739],\n",
       "       ...,\n",
       "       [0.42296971, 0.57703029],\n",
       "       [0.42401867, 0.57598133],\n",
       "       [0.78560465, 0.21439535]])"
      ]
     },
     "execution_count": 176,
     "metadata": {},
     "output_type": "execute_result"
    }
   ],
   "source": [
    "PeS"
   ]
  },
  {
   "cell_type": "code",
   "execution_count": 5,
   "metadata": {},
   "outputs": [
    {
     "name": "stdout",
     "output_type": "stream",
     "text": [
      "(100000, 14)\n",
      "(100000,)\n"
     ]
    },
    {
     "data": {
      "text/plain": [
       "<matplotlib.collections.PathCollection at 0x1b593936710>"
      ]
     },
     "execution_count": 5,
     "metadata": {},
     "output_type": "execute_result"
    },
    {
     "data": {
      "image/png": "[encoded data removed]",
      "text/plain": [
       "<Figure size 432x288 with 1 Axes>"
      ]
     },
     "metadata": {
      "needs_background": "light"
     },
     "output_type": "display_data"
    }
   ],
   "source": [
    "print(X.shape)\n",
    "print(Y.shape)\n",
    "plt.figure()\n",
    "plt.scatter(X[:, 0], X[:, 1])"
   ]
  }
 ],
 "metadata": {
  "kernelspec": {
   "display_name": "Python 3",
   "language": "python",
   "name": "python3"
  },
  "language_info": {
   "codemirror_mode": {
    "name": "ipython",
    "version": 3
   },
   "file_extension": ".py",
   "mimetype": "text/x-python",
   "name": "python",
   "nbconvert_exporter": "python",
   "pygments_lexer": "ipython3",
   "version": "3.7.0"
  }
 },
 "nbformat": 4,
 "nbformat_minor": 2
}
